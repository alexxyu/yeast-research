{
 "cells": [
  {
   "cell_type": "code",
   "execution_count": 3,
   "metadata": {},
   "outputs": [],
   "source": [
    "from skimage.measure import *\n",
    "import matplotlib.pyplot as plt\n",
    "import pandas as pd\n",
    "import numpy as np\n",
    "from calc import *\n",
    "from collections import OrderedDict\n",
    "\n",
    "from ipywidgets import FloatProgress\n",
    "from IPython.display import display"
   ]
  },
  {
   "cell_type": "markdown",
   "metadata": {},
   "source": [
    "# Process Data w/ GFP"
   ]
  },
  {
   "cell_type": "code",
   "execution_count": 4,
   "metadata": {},
   "outputs": [],
   "source": [
    "filename = 'exp249_a.txt'\n",
    "\n",
    "with open(filename, 'a') as data_file:\n",
    "    data_file.truncate(0)\n",
    "    data_file.write('pos\\tlabel\\ttime\\tx\\ty\\tarea\\tis_cropped\\tsignal\\ttotal\\tmean\\tmedian\\tmax\\n')"
   ]
  },
  {
   "cell_type": "code",
   "execution_count": null,
   "metadata": {
    "scrolled": true
   },
   "outputs": [
    {
     "data": {
      "application/vnd.jupyter.widget-view+json": {
       "model_id": "0b6c7b2fc52a441881b76a1a09fdc286",
       "version_major": 2,
       "version_minor": 0
      },
      "text/plain": [
       "FloatProgress(value=0.0, description='Pos 1-5:', max=33.0)"
      ]
     },
     "metadata": {},
     "output_type": "display_data"
    }
   ],
   "source": [
    "f = FloatProgress(min=0, max=33, description= 'Pos 1-33:')\n",
    "display(f)\n",
    "\n",
    "for pos in range(1, 33):\n",
    "       \n",
    "    frame = '%03d' % pos\n",
    "\n",
    "    data_bf = np.load('exp249_bf/%s.npy' % frame)\n",
    "    data_bf[data_bf>=0.5] = 1\n",
    "    data_bf[data_bf<0.5] = 0\n",
    "    data_bf = data_bf[:, :, :, 1]\n",
    "\n",
    "    data_gfp = np.load('exp249_gfp/%s.npy' % frame)\n",
    "\n",
    "    # 1st time frame\n",
    "    pos_data = {}\n",
    "    labels = {}\n",
    "    regions = {}\n",
    "\n",
    "    if pos == 6:\n",
    "        time_0 = 5\n",
    "        \n",
    "    else:\n",
    "        time_0 = 1\n",
    "    labels[time_0] = {}\n",
    "    \n",
    "    regions = {}\n",
    "    regions[time_0] = regionprops(label(data_bf[time_0-1]), data_gfp[time_0-1])\n",
    "    median_pixel = np.median(regionprops(label(data_bf[time_0-1], background=1), data_gfp[time_0-1])[0].intensity_image)\n",
    "    \n",
    "    temp_list = [len(np.unique(data_gfp[time_0-1][n]))==1 for n in range(0, 312)]\n",
    "    if True in temp_list:\n",
    "        y_limit = temp_list.index(True)\n",
    "    else:\n",
    "        y_limit = 312\n",
    "    \n",
    "    for props in regions[time_0]:\n",
    "        pos_data[len(pos_data)+1] = {time_0:[props, region_intensity(props, 9, median_pixel, y_limit)]}\n",
    "        labels[time_0][props.label] = props.label\n",
    "\n",
    "    # rest of time frames\n",
    "\n",
    "    timeSpan = 241\n",
    "    overlapThreshold = 0.4\n",
    "\n",
    "    for time in range(time_0+1, timeSpan+1):\n",
    "\n",
    "        labels[time] = {}\n",
    "        \n",
    "        gfp_img = data_gfp[time-1]\n",
    "        temp_list = [len(np.unique(gfp_img[n]))==1 for n in range(0, 312)]\n",
    "        if True in temp_list:\n",
    "            y_limit = temp_list.index(True)\n",
    "        else:\n",
    "            y_limit = 312\n",
    "            \n",
    "        regions[time] = regionprops(label(data_bf[time-1]), gfp_img)\n",
    "\n",
    "        for props2 in regions[time]:\n",
    "            \n",
    "            median_pixel = np.median(regionprops(label(data_bf[time-1], background=1), gfp_img)[0].intensity_image)\n",
    "\n",
    "            for props1 in regions[time-1]:\n",
    "\n",
    "                is_same = getOverlap(props1, props2, overlapThreshold)\n",
    "\n",
    "                if is_same:\n",
    "\n",
    "                    newLabel = labels[time-1][props1.label]\n",
    "                    pos_data[newLabel][time] = [props2, region_intensity(props2, 9, median_pixel, y_limit)]\n",
    "                    labels[time][props2.label] = newLabel\n",
    "                    break\n",
    "\n",
    "            if is_same != True:\n",
    "                pos_data[len(pos_data)+1] = {time:[props2, region_intensity(props2, 9, median_pixel, y_limit)]}\n",
    "                labels[time][props2.label] = len(pos_data)          \n",
    "\n",
    "    # remove cells with only one time frame\n",
    "    to_remove = [k for k in pos_data if len(pos_data[k]) < 15]\n",
    "    for k in to_remove: del pos_data[k]\n",
    "        \n",
    "    sorted_data = dict(sorted(pos_data.items(), key = lambda item : len(item[1]), reverse=True))\n",
    "    pos_data = {}\n",
    "    for n, (key, value) in enumerate(sorted_data.items()):\n",
    "        pos_data[n+1] = value\n",
    "        \n",
    "    with open(filename, 'a') as data_file:\n",
    "        \n",
    "        for label_id, label_data in pos_data.items():\n",
    "\n",
    "            for time, props_data in label_data.items():\n",
    "\n",
    "                r_data = props_data[0]\n",
    "                i_data = props_data[1]\n",
    "                data_file.write('%d\\t%d\\t%d\\t%d\\t%d\\t%d\\t%s\\t%03f\\t%d\\t%03f\\t%d\\t%d\\n' % (pos, label_id, time, r_data.centroid[1], r_data.centroid[0], r_data.area, i_data.is_cropped, i_data.signal_intensity, i_data.total_intensity, i_data.mean_intensity, i_data.median_intensity, i_data.max_intensity))\n",
    "    \n",
    "    f.value += 1\n",
    "    \n",
    "f.close()\n",
    "\n",
    "print('Done processing.')\n"
   ]
  },
  {
   "cell_type": "markdown",
   "metadata": {},
   "source": [
    "## SIngle Position"
   ]
  },
  {
   "cell_type": "code",
   "execution_count": null,
   "metadata": {},
   "outputs": [],
   "source": [
    "pos = 1\n",
    "    \n",
    "frame = '%03d' % pos\n",
    "\n",
    "data_bf = np.load('exp249_bf/%s.npy' % frame)\n",
    "data_bf[data_bf>=0.5] = 1\n",
    "data_bf[data_bf<0.5] = 0\n",
    "data_bf = data_bf[:, :, :, 1]\n",
    "\n",
    "data_gfp = np.load('exp249_gfp/%s.npy' % frame)\n",
    "\n",
    "# 1st time frame\n",
    "pos_data = {}\n",
    "\n",
    "time_0 = \n",
    "    \n",
    "regions = {}\n",
    "regions[time_0] = regionprops(label(data_bf[time_0-1]), data_gfp[time_0-1])\n",
    "\n",
    "for props in regions[time_0]:\n",
    "    pos_data[len(pos_data)+1] = {time_0:[props, region_intensity(props, 9)]}\n",
    "        labels[time_0][props.label] = props.label\n",
    "\n",
    "    # rest of time frames\n",
    "        \n",
    "    with open('exp249_t.txt', 'a') as data_file:\n",
    "        \n",
    "        for label_id, label_data in pos_data.items():\n",
    "\n",
    "            for time, props_data in label_data.items():\n",
    "\n",
    "                r_data = props_data[0]\n",
    "                i_data = props_data[1]\n",
    "                data_file.write('%d\\t%d\\t%d\\t%d\\t%d\\t%d\\t%03f\\t%d\\t%03f\\t%d\\t%d\\n' % (pos, label_id, time, r_data.centroid[0], r_data.centroid[1], r_data.area, i_data.signal_intensity, i_data.total_intensity, i_data.mean_intensity, i_data.median_intensity, i_data.max_intensity))\n"
   ]
  },
  {
   "cell_type": "markdown",
   "metadata": {},
   "source": [
    "## Print data parameters"
   ]
  },
  {
   "cell_type": "code",
   "execution_count": 14,
   "metadata": {},
   "outputs": [],
   "source": [
    "x = pos_data[2].items()"
   ]
  },
  {
   "cell_type": "code",
   "execution_count": 31,
   "metadata": {
    "scrolled": true
   },
   "outputs": [
    {
     "name": "stdout",
     "output_type": "stream",
     "text": [
      "Time:1|X:60|Y:119|Area:890|Intensity:70.571\n",
      "Time:2|X:60|Y:120|Area:918|Intensity:70.571\n",
      "Time:3|X:60|Y:120|Area:915|Intensity:72.102\n",
      "Time:4|X:60|Y:120|Area:923|Intensity:72.673\n",
      "Time:5|X:59|Y:119|Area:910|Intensity:70.347\n",
      "Time:6|X:59|Y:118|Area:917|Intensity:73.061\n",
      "Time:7|X:59|Y:118|Area:909|Intensity:69.592\n",
      "Time:8|X:58|Y:118|Area:912|Intensity:76.633\n",
      "Time:9|X:58|Y:118|Area:925|Intensity:102.102\n",
      "Time:10|X:58|Y:118|Area:959|Intensity:65.980\n",
      "Time:11|X:58|Y:119|Area:946|Intensity:70.918\n",
      "Time:12|X:59|Y:120|Area:939|Intensity:70.224\n",
      "Time:13|X:59|Y:119|Area:935|Intensity:74.429\n",
      "Time:14|X:59|Y:118|Area:931|Intensity:68.286\n",
      "Time:15|X:59|Y:117|Area:919|Intensity:69.776\n",
      "Time:16|X:59|Y:116|Area:940|Intensity:64.061\n",
      "Time:17|X:59|Y:116|Area:936|Intensity:95.592\n",
      "Time:18|X:58|Y:115|Area:955|Intensity:48.306\n",
      "Time:19|X:58|Y:116|Area:950|Intensity:71.939\n",
      "Time:20|X:59|Y:115|Area:970|Intensity:70.939\n",
      "Time:21|X:58|Y:116|Area:995|Intensity:70.286\n",
      "Time:22|X:57|Y:115|Area:970|Intensity:69.490\n",
      "Time:23|X:57|Y:115|Area:966|Intensity:68.163\n",
      "Time:24|X:56|Y:115|Area:966|Intensity:69.082\n",
      "Time:25|X:55|Y:115|Area:957|Intensity:63.510\n",
      "Time:26|X:54|Y:115|Area:963|Intensity:63.571\n",
      "Time:27|X:54|Y:115|Area:953|Intensity:66.224\n",
      "Time:28|X:53|Y:116|Area:967|Intensity:67.082\n",
      "Time:29|X:54|Y:115|Area:991|Intensity:68.122\n",
      "Time:30|X:54|Y:115|Area:993|Intensity:66.184\n",
      "Time:31|X:55|Y:116|Area:997|Intensity:71.714\n",
      "Time:32|X:54|Y:115|Area:1009|Intensity:83.265\n",
      "Time:33|X:55|Y:115|Area:1037|Intensity:73.939\n",
      "Time:34|X:54|Y:116|Area:1043|Intensity:78.429\n",
      "Time:35|X:54|Y:114|Area:992|Intensity:82.571\n",
      "Time:36|X:53|Y:114|Area:930|Intensity:77.551\n",
      "Time:37|X:53|Y:113|Area:937|Intensity:71.837\n",
      "Time:38|X:54|Y:113|Area:952|Intensity:75.102\n",
      "Time:39|X:54|Y:113|Area:979|Intensity:79.102\n",
      "Time:40|X:55|Y:113|Area:991|Intensity:74.551\n",
      "Time:41|X:56|Y:113|Area:985|Intensity:76.245\n",
      "Time:42|X:56|Y:113|Area:960|Intensity:70.592\n",
      "Time:43|X:56|Y:113|Area:922|Intensity:74.755\n",
      "Time:44|X:54|Y:113|Area:931|Intensity:76.735\n",
      "Time:45|X:54|Y:113|Area:974|Intensity:78.163\n",
      "Time:46|X:54|Y:113|Area:979|Intensity:82.714\n",
      "Time:47|X:54|Y:113|Area:1001|Intensity:74.959\n",
      "Time:48|X:55|Y:113|Area:1065|Intensity:79.592\n",
      "Time:49|X:55|Y:114|Area:1026|Intensity:74.204\n",
      "Time:50|X:55|Y:114|Area:993|Intensity:80.776\n"
     ]
    }
   ],
   "source": [
    "for time, props in pos_data[1].items():\n",
    "    print('Time:%d|'%time + 'X:%d|Y:%d|Area:%d|Intensity:%.3f'%(props[0].centroid[1], props[0].centroid[0], props[0].area, props[1]))\n",
    "    "
   ]
  }
 ],
 "metadata": {
  "kernelspec": {
   "display_name": "Python 3",
   "language": "python",
   "name": "python3"
  },
  "language_info": {
   "codemirror_mode": {
    "name": "ipython",
    "version": 3
   },
   "file_extension": ".py",
   "mimetype": "text/x-python",
   "name": "python",
   "nbconvert_exporter": "python",
   "pygments_lexer": "ipython3",
   "version": "3.6.5"
  }
 },
 "nbformat": 4,
 "nbformat_minor": 2
}
