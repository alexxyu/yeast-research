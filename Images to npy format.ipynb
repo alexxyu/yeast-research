{
 "cells": [
  {
   "cell_type": "code",
   "execution_count": 2,
   "metadata": {},
   "outputs": [],
   "source": [
    "import fnmatch\n",
    "import os\n",
    "import numpy as np\n",
    "import cv2\n",
    "\n",
    "from ipywidgets import FloatProgress\n",
    "from IPython.display import display"
   ]
  },
  {
   "cell_type": "code",
   "execution_count": 69,
   "metadata": {},
   "outputs": [
    {
     "data": {
      "application/vnd.jupyter.widget-view+json": {
       "model_id": "",
       "version_major": 2,
       "version_minor": 0
      },
      "text/plain": [
       "FloatProgress(value=1.0, description='Processing:', max=32.0, min=1.0)"
      ]
     },
     "metadata": {},
     "output_type": "display_data"
    },
    {
     "name": "stdout",
     "output_type": "stream",
     "text": [
      "Done processing.\n"
     ]
    }
   ],
   "source": [
    "f = FloatProgress(min=1, max=32, description='Processing:')\n",
    "display(f)\n",
    "\n",
    "for position in range(1, 33):\n",
    "    \n",
    "    pos = '%02d' % position\n",
    "\n",
    "    files = []\n",
    "    regex = '*XY%sC2*' % pos\n",
    "    for file in sorted(os.listdir('tif-cropped')):\n",
    "        if fnmatch.fnmatch(file, regex):\n",
    "            files.append(file)\n",
    "\n",
    "    data = np.zeros((312, 312))\n",
    "\n",
    "    for file in files:\n",
    "        data = np.dstack((data, cv2.imread('tif-cropped/'+file, cv2.IMREAD_GRAYSCALE)))\n",
    "\n",
    "    data = np.swapaxes(data, 0, 2)\n",
    "    data = np.swapaxes(data, 1, 2)\n",
    "\n",
    "    data = data[1:, :, :]\n",
    "\n",
    "    np.save('exp249_gfp/%03d' % position, data)\n",
    "    \n",
    "    f.value += 1\n",
    "    \n",
    "f.close()\n",
    "print('Done processing.')"
   ]
  },
  {
   "cell_type": "code",
   "execution_count": null,
   "metadata": {},
   "outputs": [],
   "source": []
  }
 ],
 "metadata": {
  "kernelspec": {
   "display_name": "Python 3",
   "language": "python",
   "name": "python3"
  },
  "language_info": {
   "codemirror_mode": {
    "name": "ipython",
    "version": 3
   },
   "file_extension": ".py",
   "mimetype": "text/x-python",
   "name": "python",
   "nbconvert_exporter": "python",
   "pygments_lexer": "ipython3",
   "version": "3.6.5"
  }
 },
 "nbformat": 4,
 "nbformat_minor": 2
}
